{
 "cells": [
  {
   "cell_type": "code",
   "execution_count": 2,
   "metadata": {},
   "outputs": [
    {
     "name": "stderr",
     "output_type": "stream",
     "text": [
      "/home/ethan/miniconda3/envs/song-rec/lib/python3.10/site-packages/flash_attn/ops/triton/layer_norm.py:985: FutureWarning: `torch.cuda.amp.custom_fwd(args...)` is deprecated. Please use `torch.amp.custom_fwd(args..., device_type='cuda')` instead.\n",
      "  def forward(\n",
      "/home/ethan/miniconda3/envs/song-rec/lib/python3.10/site-packages/flash_attn/ops/triton/layer_norm.py:1044: FutureWarning: `torch.cuda.amp.custom_bwd(args...)` is deprecated. Please use `torch.amp.custom_bwd(args..., device_type='cuda')` instead.\n",
      "  def backward(ctx, dout, *args):\n"
     ]
    }
   ],
   "source": [
    "from torch.cuda import is_available as is_cuda_available\n",
    "from transformers import AutoModel\n",
    "\n",
    "from xlm_roberta.modeling_lora import XLMRobertaLoRA\n",
    "\n",
    "model_folder = './models/jina-embeddings-v3/'\n",
    "\n",
    "# Initialize the model\n",
    "model = AutoModel.from_pretrained(model_folder, trust_remote_code=True)\n",
    "model: XLMRobertaLoRA\n",
    "\n",
    "if is_cuda_available():\n",
    "    model.to('cuda')"
   ]
  },
  {
   "cell_type": "code",
   "execution_count": 24,
   "metadata": {},
   "outputs": [
    {
     "name": "stdout",
     "output_type": "stream",
     "text": [
      "(4, 1024)\n",
      "[ 0.07359939 -0.09012064  0.08909674 ...  0.01743072 -0.00241766\n",
      "  0.0039986 ]\n"
     ]
    }
   ],
   "source": [
    "texts = [\n",
    "    \"sample text\",\n",
    "    \"Look at her face\",\n",
    "    \"a love song\",\n",
    "    \"a sad song\",\n",
    "]\n",
    "\n",
    "# When calling the `encode` function, you can choose a `task` based on the use case:\n",
    "# 'retrieval.query', 'retrieval.passage', 'separation', 'classification', 'text-matching'\n",
    "# Alternatively, you can choose not to pass a `task`, and no specific LoRA adapter will be used.\n",
    "query_embeddings = model.encode(texts, task=\"retrieval.query\")\n",
    "print(query_embeddings.shape)\n",
    "print(query_embeddings[0])"
   ]
  },
  {
   "cell_type": "code",
   "execution_count": 4,
   "metadata": {},
   "outputs": [
    {
     "name": "stdout",
     "output_type": "stream",
     "text": [
      "(57650, 1024)\n",
      "[-0.1406054  -0.04126596  0.02898028 ... -0.0118162  -0.0104178\n",
      " -0.00558778]\n"
     ]
    }
   ],
   "source": [
    "import numpy as np\n",
    "\n",
    "# load embeddings\n",
    "passage_embeddings = np.load('./embeddings/jina-embeddings-v3_retrieval.passage.npy')\n",
    "print(passage_embeddings.shape)\n",
    "print(passage_embeddings[0])"
   ]
  },
  {
   "cell_type": "code",
   "execution_count": 25,
   "metadata": {},
   "outputs": [
    {
     "name": "stdout",
     "output_type": "stream",
     "text": [
      "[[0.1181575  0.20447016 0.1517792  ... 0.12681568 0.1679917  0.17886987]\n",
      " [0.30442497 0.11763603 0.15821353 ... 0.0948153  0.08668843 0.08245966]\n",
      " [0.3070848  0.35255226 0.37161088 ... 0.30424643 0.27756616 0.34715414]\n",
      " [0.32861927 0.3058338  0.3108795  ... 0.2291998  0.30555478 0.32890457]]\n"
     ]
    }
   ],
   "source": [
    "# Compute similarities\n",
    "similarities = query_embeddings @ passage_embeddings.T\n",
    "print(similarities)"
   ]
  },
  {
   "cell_type": "code",
   "execution_count": 12,
   "metadata": {},
   "outputs": [
    {
     "name": "stdout",
     "output_type": "stream",
     "text": [
      "[[12383 46207 47392 44620 12494]\n",
      " [43615  4627 33356 20269 26647]\n",
      " [25317  1841 31527 44260  6152]]\n",
      "CPU times: user 17.3 ms, sys: 103 μs, total: 17.4 ms\n",
      "Wall time: 16.3 ms\n"
     ]
    }
   ],
   "source": [
    "%%time\n",
    "# get top k indices\n",
    "top_k = 5\n",
    "top_k_indices = np.argsort(-similarities, axis=1)[:, :top_k]\n",
    "print(top_k_indices)"
   ]
  },
  {
   "cell_type": "code",
   "execution_count": 26,
   "metadata": {},
   "outputs": [
    {
     "name": "stdout",
     "output_type": "stream",
     "text": [
      "[[12383 46207 47392 44620 12494]\n",
      " [43615  4627 33356 20269 26647]\n",
      " [25317  1841 31527 44260 24504]\n",
      " [23647 32184 45343  4425 33847]]\n",
      "CPU times: user 3.02 ms, sys: 1.01 ms, total: 4.03 ms\n",
      "Wall time: 3.37 ms\n"
     ]
    }
   ],
   "source": [
    "%%time\n",
    "# a more efficient way to get top k indices\n",
    "num_queries = similarities.shape[0]\n",
    "arange = np.arange(num_queries)[:, None]\n",
    "\n",
    "top_k = 5\n",
    "top_k_indices = np.argpartition(-similarities, top_k, axis=1)[:, :top_k]\n",
    "# Sort the top_k indices to get them in order\n",
    "top_k_indices = top_k_indices[arange, np.argsort(-similarities[arange, top_k_indices])]\n",
    "print(top_k_indices)"
   ]
  },
  {
   "cell_type": "code",
   "execution_count": 27,
   "metadata": {},
   "outputs": [
    {
     "name": "stdout",
     "output_type": "stream",
     "text": [
      "[0.31351554 0.3099225  0.3026087  0.30215356 0.3013426 ]\n",
      "[0.52556664 0.52281755 0.50563866 0.49271652 0.48811904]\n",
      "[0.57675344 0.57347375 0.567487   0.5579922  0.5570458 ]\n",
      "[0.6042438  0.58098495 0.57753104 0.57650334 0.55687964]\n"
     ]
    }
   ],
   "source": [
    "# print similarities for top k indices\n",
    "for i in range(len(top_k_indices)):\n",
    "    print(similarities[i, top_k_indices[i]])"
   ]
  },
  {
   "cell_type": "markdown",
   "metadata": {},
   "source": [
    "## Data"
   ]
  },
  {
   "cell_type": "code",
   "execution_count": 28,
   "metadata": {},
   "outputs": [
    {
     "name": "stdout",
     "output_type": "stream",
     "text": [
      "  artist                   song                                        link  \\\n",
      "0   ABBA  Ahe's My Kind Of Girl  /a/abba/ahes+my+kind+of+girl_20598417.html   \n",
      "1   ABBA       Andante, Andante       /a/abba/andante+andante_20002708.html   \n",
      "2   ABBA         As Good As New        /a/abba/as+good+as+new_20003033.html   \n",
      "3   ABBA                   Bang                  /a/abba/bang_20598415.html   \n",
      "4   ABBA       Bang-A-Boomerang      /a/abba/bang+a+boomerang_20002668.html   \n",
      "\n",
      "                                                text  \n",
      "0  Look at her face, it's a wonderful face  \\r\\nA...  \n",
      "1  Take it easy with me, please  \\r\\nTouch me gen...  \n",
      "2  I'll never know why I had to go  \\r\\nWhy I had...  \n",
      "3  Making somebody happy is a question of give an...  \n",
      "4  Making somebody happy is a question of give an...  \n"
     ]
    }
   ],
   "source": [
    "import pandas as pd\n",
    "\n",
    "data_path = './spotify_millsongdata.csv'\n",
    "df = pd.read_csv(data_path)\n",
    "\n",
    "print(df.head())"
   ]
  },
  {
   "cell_type": "code",
   "execution_count": 31,
   "metadata": {},
   "outputs": [
    {
     "name": "stdout",
     "output_type": "stream",
     "text": [
      "                artist                   song  \\\n",
      "25317   Billie Holiday  Lover Come Back To Me   \n",
      "1841      Bonnie Raitt          Cure For Love   \n",
      "31527   Emmylou Harris                Love Is   \n",
      "44260   Modern Talking      Romantic Warriors   \n",
      "24504  Backstreet Boys          Love Somebody   \n",
      "\n",
      "                                                    link  \\\n",
      "25317  /b/billie+holiday/lover+come+back+to+me_200180...   \n",
      "1841         /b/bonnie+raitt/cure+for+love_20022697.html   \n",
      "31527            /e/emmylou+harris/love+is_20050047.html   \n",
      "44260  /m/modern+talking/romantic+warriors_20094699.html   \n",
      "24504     /b/backstreet+boys/love+somebody_21063816.html   \n",
      "\n",
      "                                                    text  \n",
      "25317  The sky was blue  \\r\\nAnd high above  \\r\\nThe ...  \n",
      "1841   You bring me roses  \\r\\nYou give me kisses  \\r...  \n",
      "31527  Love is a shiny car  \\r\\nLove is a steel guita...  \n",
      "44260  In the nights of lost and found  \\r\\nMany stra...  \n",
      "24504  Love  \\r\\nIs it too much to ask for  \\r\\nOne m...  \n"
     ]
    }
   ],
   "source": [
    "# get entries for top k indices of query \"a love song\"\n",
    "top_k_entries = df.iloc[top_k_indices[-2]]\n",
    "print(top_k_entries)"
   ]
  },
  {
   "cell_type": "code",
   "execution_count": 30,
   "metadata": {},
   "outputs": [
    {
     "name": "stdout",
     "output_type": "stream",
     "text": [
      "              artist           song  \\\n",
      "23647  Alison Krauss  This Sad Song   \n",
      "32184       Everlast       Sad Girl   \n",
      "45343    Neil Sedaka  Sad Sad Story   \n",
      "4425    Donna Summer     Sing Along   \n",
      "33847  George Strait  Blue Melodies   \n",
      "\n",
      "                                               link  \\\n",
      "23647  /a/alison+krauss/this+sad+song_20521716.html   \n",
      "32184            /e/everlast/sad+girl_20181664.html   \n",
      "45343    /n/neil+sedaka/sad+sad+story_20613341.html   \n",
      "4425       /d/donna+summer/sing+along_10087839.html   \n",
      "33847  /g/george+strait/blue+melodies_21061476.html   \n",
      "\n",
      "                                                    text  \n",
      "23647  Well, the rain is apourin' down in a fury  \\r\\...  \n",
      "32184  I seen her at a stop light on Alverano  \\r\\nWa...  \n",
      "45343  Look at the lady she's the one with the broken...  \n",
      "4425   I've an emptiness inside  \\r\\nThat can only be...  \n",
      "33847  I don't know how to write you a song  \\r\\nThat...  \n"
     ]
    }
   ],
   "source": [
    "# get entries for top k indices of query \"a sad song\"\n",
    "top_k_entries = df.iloc[top_k_indices[-1]]\n",
    "print(top_k_entries)"
   ]
  }
 ],
 "metadata": {
  "kernelspec": {
   "display_name": "song-rec",
   "language": "python",
   "name": "python3"
  },
  "language_info": {
   "codemirror_mode": {
    "name": "ipython",
    "version": 3
   },
   "file_extension": ".py",
   "mimetype": "text/x-python",
   "name": "python",
   "nbconvert_exporter": "python",
   "pygments_lexer": "ipython3",
   "version": "3.10.15"
  }
 },
 "nbformat": 4,
 "nbformat_minor": 2
}
